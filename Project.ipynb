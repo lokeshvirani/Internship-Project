{
  "nbformat": 4,
  "nbformat_minor": 0,
  "metadata": {
    "colab": {
      "provenance": [],
      "authorship_tag": "ABX9TyNJKu3E4Z5oQEq2AhpmH5fd",
      "include_colab_link": true
    },
    "kernelspec": {
      "name": "python3",
      "display_name": "Python 3"
    },
    "language_info": {
      "name": "python"
    }
  },
  "cells": [
    {
      "cell_type": "markdown",
      "metadata": {
        "id": "view-in-github",
        "colab_type": "text"
      },
      "source": [
        "<a href=\"https://colab.research.google.com/github/lokeshvirani/Internship-Project/blob/main/Project.ipynb\" target=\"_parent\"><img src=\"https://colab.research.google.com/assets/colab-badge.svg\" alt=\"Open In Colab\"/></a>"
      ]
    },
    {
      "cell_type": "markdown",
      "source": [
        "1  **Import Libraries**\n",
        "\n",
        "\n"
      ],
      "metadata": {
        "id": "dMb--MNZwuhr"
      }
    },
    {
      "cell_type": "code",
      "execution_count": null,
      "metadata": {
        "id": "nZo8H16YrcCa"
      },
      "outputs": [],
      "source": [
        "import numpy as np\n",
        "import tensorflow as tf\n",
        "from tensorflow.keras.applications import ResNet50\n",
        "from tensorflow.keras.datasets import mnist\n",
        "from sklearn.metrics import accuracy_score\n",
        "from tensorflow.keras.models import Model\n",
        "\n",
        "from numpy import dot\n",
        "from numpy.linalg import norm\n"
      ]
    },
    {
      "cell_type": "code",
      "source": [
        "# Load and preprocess MNIST dataset\n",
        "def load_and_preprocess_data():\n",
        "    (x_train, y_train), (x_test, y_test) = mnist.load_data()\n",
        "\n",
        "    # Normalize the images range [0, 1] and expand dimensions\n",
        "    x_train = np.expand_dims(x_train, axis=-1) / 255.0\n",
        "    x_test = np.expand_dims(x_test, axis=-1) / 255.0\n",
        "\n",
        "    # Resize images to match ResNet50 input size\n",
        "    x_train = tf.image.resize(x_train, (32, 32)).numpy().astype(\"float32\")\n",
        "    x_test = tf.image.resize(x_test, (32, 32)).numpy().astype(\"float32\")\n",
        "\n",
        "    # Convert to RGB by repeating the grey scale channel 3 times\n",
        "    x_train = np.repeat(x_train, 3, axis=-1)\n",
        "    x_test = np.repeat(x_test, 3, axis=-1)\n",
        "\n",
        "    return (x_train, y_train), (x_test, y_test)\n",
        "\n",
        "# Initialize ResNet50 as feature extractor\n",
        "def initialize_feature_extractor():\n",
        "    resnet_model = ResNet50(weights='imagenet', include_top=False, input_shape=(32, 32, 3))\n",
        "    resnet_model.trainable = False  # Freeze model layers\n",
        "    return resnet_model\n",
        "\n",
        "# Feature extraction using ResNet50 with normalization\n",
        "def extract_features(model, data):\n",
        "    features = model.predict(data, verbose=1)\n",
        "    norms = np.linalg.norm(features, axis=1, keepdims=True)\n",
        "    norms[norms == 0] = 1e-10  # Avoid division by zero for zero vectors\n",
        "    return features / norms\n",
        "\n",
        "# Prototype Management\n",
        "class PrototypeManager:\n",
        "    def __init__(self):\n",
        "        self.prototypes = {}\n",
        "        self.sample_counts = {}\n",
        "\n",
        "    def update_or_create_prototype(self, class_label, feature_vector):\n",
        "        if class_label in self.prototypes:\n",
        "            current_prototype = self.prototypes[class_label]\n",
        "            current_count = self.sample_counts[class_label]\n",
        "            new_prototype = (current_prototype * current_count + feature_vector) / (current_count + 1)\n",
        "            self.prototypes[class_label] = new_prototype\n",
        "            self.sample_counts[class_label] += 1\n",
        "        else:\n",
        "            self.prototypes[class_label] = feature_vector\n",
        "            self.sample_counts[class_label] = 1\n",
        "\n",
        "    # ...Euclidean distance....\n",
        "    # def find_closest_prototype(self, feature_vector, threshold=100.0):\n",
        "    #     min_distance = float('inf')\n",
        "    #     closest_class = None\n",
        "    #     # Distance Measurement\n",
        "    #     for class_label, prototype in self.prototypes.items():\n",
        "    #         distance = np.linalg.norm(prototype - feature_vector)\n",
        "    #         if distance < min_distance:\n",
        "    #             min_distance = distance\n",
        "    #             closest_class = class_label\n",
        "\n",
        "    #     if min_distance < threshold:\n",
        "    #         return closest_class, min_distance\n",
        "    #     else:\n",
        "    #         return None, min_distance\n",
        "\n",
        "\n",
        "    #...cosine similarity...\n",
        "    def find_closest_prototype(self, feature_vector, threshold=0.85):\n",
        "          max_similarity = -1\n",
        "          closest_class = None\n",
        "          # Flatten the feature vector to avoid shape misalignment\n",
        "          feature_vector = feature_vector.flatten()\n",
        "          for class_label, prototype in self.prototypes.items():\n",
        "              # Flatten each prototype as well\n",
        "              prototype = prototype.flatten()\n",
        "              # Calculate cosine similarity\n",
        "              similarity = dot(prototype, feature_vector) / (norm(prototype) * norm(feature_vector))\n",
        "              if similarity > max_similarity:\n",
        "                  max_similarity = similarity\n",
        "                  closest_class = class_label\n",
        "\n",
        "          if max_similarity > threshold:\n",
        "              return closest_class, max_similarity\n",
        "          else:\n",
        "              return None, max_similarity\n",
        "\n",
        "# Perform anomaly detection using the extracted features\n",
        "def perform_anomaly_detection(x_train, y_train, x_test, y_test, feature_extractor):\n",
        "    prototype_manager = PrototypeManager()\n",
        "    train_features = extract_features(feature_extractor, x_train)\n",
        "    test_features = extract_features(feature_extractor, x_test)\n",
        "\n",
        "    # Verify all classes are represented in the training data\n",
        "    print(\"Classes in training data:\", np.unique(y_train))\n",
        "\n",
        "    # Train the model by prototypes from the training set\n",
        "    for i, feature_vector in enumerate(train_features):\n",
        "        class_label = y_train[i]\n",
        "        prototype_manager.update_or_create_prototype(class_label, feature_vector)\n",
        "\n",
        "    # Test the model and detect anomalies\n",
        "    predictions = []\n",
        "    anomalies_detected = 0\n",
        "\n",
        "    for i, test_feature in enumerate(test_features):\n",
        "        closest_class, distance = prototype_manager.find_closest_prototype(test_feature)\n",
        "\n",
        "        if closest_class is not None:\n",
        "            predictions.append(closest_class)\n",
        "        else:\n",
        "            predictions.append(-1)\n",
        "            anomalies_detected += 1\n",
        "\n",
        "    accuracy = accuracy_score(y_test, predictions)\n",
        "    print(f\"Anomalies detected: {anomalies_detected}\")\n",
        "    print(f\"Test Accuracy: {accuracy * 100:.2f}%\")\n",
        "\n",
        "if __name__ == \"__main__\":\n",
        "    (x_train, y_train), (x_test, y_test) = load_and_preprocess_data()\n",
        "    feature_extractor = initialize_feature_extractor()\n",
        "    perform_anomaly_detection(x_train, y_train, x_test, y_test, feature_extractor)\n"
      ],
      "metadata": {
        "id": "-yUc7ZUSr7-2",
        "outputId": "6eea7204-2502-46db-c3a5-bbf98c539c5b",
        "colab": {
          "base_uri": "https://localhost:8080/"
        }
      },
      "execution_count": null,
      "outputs": [
        {
          "output_type": "stream",
          "name": "stdout",
          "text": [
            "Downloading data from https://storage.googleapis.com/tensorflow/tf-keras-datasets/mnist.npz\n",
            "\u001b[1m11490434/11490434\u001b[0m \u001b[32m━━━━━━━━━━━━━━━━━━━━\u001b[0m\u001b[37m\u001b[0m \u001b[1m0s\u001b[0m 0us/step\n",
            "Downloading data from https://storage.googleapis.com/tensorflow/keras-applications/resnet/resnet50_weights_tf_dim_ordering_tf_kernels_notop.h5\n",
            "\u001b[1m94765736/94765736\u001b[0m \u001b[32m━━━━━━━━━━━━━━━━━━━━\u001b[0m\u001b[37m\u001b[0m \u001b[1m2s\u001b[0m 0us/step\n",
            "\u001b[1m1875/1875\u001b[0m \u001b[32m━━━━━━━━━━━━━━━━━━━━\u001b[0m\u001b[37m\u001b[0m \u001b[1m267s\u001b[0m 140ms/step\n",
            "\u001b[1m313/313\u001b[0m \u001b[32m━━━━━━━━━━━━━━━━━━━━\u001b[0m\u001b[37m\u001b[0m \u001b[1m48s\u001b[0m 154ms/step\n",
            "Classes in training data: [0 1 2 3 4 5 6 7 8 9]\n",
            "Anomalies detected: 45\n",
            "Test Accuracy: 60.17%\n"
          ]
        }
      ]
    }
  ]
}