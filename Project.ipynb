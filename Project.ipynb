{
  "nbformat": 4,
  "nbformat_minor": 0,
  "metadata": {
    "colab": {
      "provenance": [],
      "authorship_tag": "ABX9TyO7Yn3yN+j6fc2GgPOgIKj6",
      "include_colab_link": true
    },
    "kernelspec": {
      "name": "python3",
      "display_name": "Python 3"
    },
    "language_info": {
      "name": "python"
    }
  },
  "cells": [
    {
      "cell_type": "markdown",
      "metadata": {
        "id": "view-in-github",
        "colab_type": "text"
      },
      "source": [
        "<a href=\"https://colab.research.google.com/github/lokeshvirani/Internship-Project/blob/main/Project.ipynb\" target=\"_parent\"><img src=\"https://colab.research.google.com/assets/colab-badge.svg\" alt=\"Open In Colab\"/></a>"
      ]
    },
    {
      "cell_type": "markdown",
      "source": [
        "1  **Import Libraries**\n",
        "\n",
        "\n"
      ],
      "metadata": {
        "id": "dMb--MNZwuhr"
      }
    },
    {
      "cell_type": "code",
      "execution_count": null,
      "metadata": {
        "id": "nZo8H16YrcCa"
      },
      "outputs": [],
      "source": [
        "import numpy as np\n",
        "import tensorflow as tf\n",
        "from tensorflow.keras.applications import ResNet50\n",
        "from tensorflow.keras.datasets import mnist\n",
        "from sklearn.metrics import accuracy_score\n",
        "from sklearn.metrics.pairwise import euclidean_distances\n"
      ]
    },
    {
      "cell_type": "code",
      "source": [
        "# Step 1 Load and preprocess MNIST dataset\n",
        "def load_and_preprocess_data():\n",
        "    (x_train, y_train), (x_test, y_test) = mnist.load_data()\n",
        "\n",
        "    # Normalize and reshape the dataset\n",
        "    x_train = np.expand_dims(x_train, axis=-1) / 255.0\n",
        "    x_test = np.expand_dims(x_test, axis=-1) / 255.0\n",
        "\n",
        "    # Resize images to match ResNet50 compatability (expected shape 32, 32, 3)\n",
        "    x_train = tf.image.resize(x_train, (32, 32))\n",
        "    x_test = tf.image.resize(x_test, (32, 32))\n",
        "\n",
        "    # Convert to RGB by repeating the grayscale channel three times\n",
        "    x_train = np.repeat(x_train, 3, axis=-1)    #convert (32, 32 ,3)\n",
        "    x_test = np.repeat(x_test, 3, axis=-1)      #convert (32, 32 ,3)\n",
        "\n",
        "    return (x_train, y_train), (x_test, y_test)\n",
        "\n",
        "\n",
        "    # Initialize ResNet50 as a feature extractor\n",
        "def initialize_feature_extractor():\n",
        "    resnet_model = ResNet50(weights='imagenet', include_top=False, input_shape=(32, 32, 3))\n",
        "    resnet_model.trainable = False  # Freeze the model layers\n",
        "    return resnet_model\n",
        "\n",
        "   #Feature extraction using ResNet50\n",
        "def extract_features(model, data):\n",
        "    return model.predict(data, verbose=1)\n",
        "\n",
        "# Step 2: Initialize ResNet50 as a feature extractor\n",
        "def initialize_feature_extractor():\n",
        "    resnet_model = ResNet50(weights='imagenet', include_top=False, input_shape=(32, 32, 3))\n",
        "    resnet_model.trainable = False  # Freeze the model layers\n",
        "    return resnet_model\n",
        "\n",
        "# Step 3: Feature extraction using ResNet50\n",
        "def extract_features(model, data):\n",
        "    return model.predict(data, verbose=1)\n",
        "\n",
        "\n",
        "\n",
        "\n",
        "\n"
      ],
      "metadata": {
        "id": "Bi08r_oKubou"
      },
      "execution_count": null,
      "outputs": []
    }
  ]
}