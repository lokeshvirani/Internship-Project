{
  "nbformat": 4,
  "nbformat_minor": 0,
  "metadata": {
    "colab": {
      "provenance": [],
      "authorship_tag": "ABX9TyNfL+Zmc1fOhzuhL9gO/GfC",
      "include_colab_link": true
    },
    "kernelspec": {
      "name": "python3",
      "display_name": "Python 3"
    },
    "language_info": {
      "name": "python"
    }
  },
  "cells": [
    {
      "cell_type": "markdown",
      "metadata": {
        "id": "view-in-github",
        "colab_type": "text"
      },
      "source": [
        "<a href=\"https://colab.research.google.com/github/lokeshvirani/Internship-Project/blob/main/Updated_Project.ipynb\" target=\"_parent\"><img src=\"https://colab.research.google.com/assets/colab-badge.svg\" alt=\"Open In Colab\"/></a>"
      ]
    },
    {
      "cell_type": "code",
      "execution_count": 1,
      "metadata": {
        "id": "S_u3JfY03AuQ"
      },
      "outputs": [],
      "source": [
        "import numpy as np\n",
        "import tensorflow as tf\n",
        "from tensorflow.keras.applications import ResNet50\n",
        "from sklearn.metrics import classification_report\n",
        "import matplotlib.pyplot as plt"
      ]
    },
    {
      "cell_type": "markdown",
      "source": [
        "**Load the MNIST dataset**"
      ],
      "metadata": {
        "id": "M0gFiI4d3afH"
      }
    },
    {
      "cell_type": "code",
      "source": [
        "\n",
        "(x_train, y_train), (x_test, y_test) = tf.keras.datasets.mnist.load_data()"
      ],
      "metadata": {
        "colab": {
          "base_uri": "https://localhost:8080/"
        },
        "id": "AzUKpadq3VHr",
        "outputId": "70ccdba8-2c9c-4792-9f10-34ef56cc5c11"
      },
      "execution_count": null,
      "outputs": [
        {
          "output_type": "stream",
          "name": "stdout",
          "text": [
            "Downloading data from https://storage.googleapis.com/tensorflow/tf-keras-datasets/mnist.npz\n",
            "\u001b[1m11490434/11490434\u001b[0m \u001b[32m━━━━━━━━━━━━━━━━━━━━\u001b[0m\u001b[37m\u001b[0m \u001b[1m0s\u001b[0m 0us/step\n"
          ]
        }
      ]
    },
    {
      "cell_type": "markdown",
      "source": [
        "**Normalize images**"
      ],
      "metadata": {
        "id": "ZMl-Yzic3g0u"
      }
    },
    {
      "cell_type": "code",
      "source": [
        "x_train = x_train.astype('float32') / 255.0\n",
        "x_test = x_test.astype('float32') / 255.0"
      ],
      "metadata": {
        "id": "yP7uZMmM3cXN"
      },
      "execution_count": null,
      "outputs": []
    },
    {
      "cell_type": "markdown",
      "source": [
        "**Expand dimensions to match ResNet50 input size (MNIST has 1 channel, ResNet50 expects 3)**"
      ],
      "metadata": {
        "id": "QS46vJtj3rit"
      }
    },
    {
      "cell_type": "code",
      "source": [
        "x_train = np.stack([x_train]*3, axis=-1)\n",
        "x_test = np.stack([x_test]*3, axis=-1)"
      ],
      "metadata": {
        "id": "ggVMLJus3idt"
      },
      "execution_count": null,
      "outputs": []
    },
    {
      "cell_type": "markdown",
      "source": [
        "**Define a function to resize images in batches to avoid memory overload**"
      ],
      "metadata": {
        "id": "uL39eK7G3xzt"
      }
    },
    {
      "cell_type": "code",
      "source": [
        "def batch_resize(images, batch_size=1000):\n",
        "    resized_images = []\n",
        "    for i in range(0, len(images), batch_size):\n",
        "        batch = images[i:i + batch_size]\n",
        "        batch_resized = tf.image.resize(batch, (224, 224))\n",
        "        resized_images.append(batch_resized)\n",
        "    return np.concatenate(resized_images, axis=0)"
      ],
      "metadata": {
        "id": "UOAlRpNK3tyV"
      },
      "execution_count": null,
      "outputs": []
    },
    {
      "cell_type": "markdown",
      "source": [
        "**Resize train and test sets in batches to avoid memory overload**"
      ],
      "metadata": {
        "id": "08Pt45bF35VX"
      }
    },
    {
      "cell_type": "code",
      "source": [
        "x_train_resized = batch_resize(x_train)\n",
        "x_test_resized = batch_resize(x_test)"
      ],
      "metadata": {
        "colab": {
          "base_uri": "https://localhost:8080/",
          "height": 158
        },
        "id": "YEy7zu7B31em",
        "outputId": "0306f9ab-bcea-415e-8bab-b5cafb2f6510"
      },
      "execution_count": null,
      "outputs": [
        {
          "output_type": "error",
          "ename": "NameError",
          "evalue": "name 'batch_resize' is not defined",
          "traceback": [
            "\u001b[0;31m---------------------------------------------------------------------------\u001b[0m",
            "\u001b[0;31mNameError\u001b[0m                                 Traceback (most recent call last)",
            "\u001b[0;32m<ipython-input-1-d617b9a6735f>\u001b[0m in \u001b[0;36m<cell line: 1>\u001b[0;34m()\u001b[0m\n\u001b[0;32m----> 1\u001b[0;31m \u001b[0mx_train_resized\u001b[0m \u001b[0;34m=\u001b[0m \u001b[0mbatch_resize\u001b[0m\u001b[0;34m(\u001b[0m\u001b[0mx_train\u001b[0m\u001b[0;34m)\u001b[0m\u001b[0;34m\u001b[0m\u001b[0;34m\u001b[0m\u001b[0m\n\u001b[0m\u001b[1;32m      2\u001b[0m \u001b[0mx_test_resized\u001b[0m \u001b[0;34m=\u001b[0m \u001b[0mbatch_resize\u001b[0m\u001b[0;34m(\u001b[0m\u001b[0mx_test\u001b[0m\u001b[0;34m)\u001b[0m\u001b[0;34m\u001b[0m\u001b[0;34m\u001b[0m\u001b[0m\n",
            "\u001b[0;31mNameError\u001b[0m: name 'batch_resize' is not defined"
          ]
        }
      ]
    }
  ]
}